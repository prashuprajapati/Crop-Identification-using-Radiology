{
 "cells": [
  {
   "cell_type": "code",
   "execution_count": 1,
   "id": "597b5e79",
   "metadata": {},
   "outputs": [],
   "source": [
    "import os\n",
    "import cv2\n",
    "import numpy as np\n",
    "\n",
    "# Example of loading and preprocessing images\n",
    "def load_images(directory, image_size):\n",
    "    images = []\n",
    "    labels = []\n",
    "    crop_types = os.listdir(directory)\n",
    "\n",
    "    for crop_type in crop_types:\n",
    "        path = os.path.join(directory, crop_type)\n",
    "        for filename in os.listdir(path):\n",
    "            img_path = os.path.join(path, filename)\n",
    "            img = cv2.imread(img_path)\n",
    "            img = cv2.resize(img, image_size)\n",
    "            images.append(img)\n",
    "            labels.append(crop_type)\n",
    "\n",
    "    return np.array(images), np.array(labels)\n",
    "\n",
    "# Example usage:\n",
    "data_directory = 'plant1'\n",
    "image_size = (56, 56)\n",
    "images, labels = load_images(data_directory, image_size)\n"
   ]
  },
  {
   "cell_type": "code",
   "execution_count": 2,
   "id": "eca5b3ef",
   "metadata": {},
   "outputs": [
    {
     "name": "stdout",
     "output_type": "stream",
     "text": [
      "4972\n"
     ]
    }
   ],
   "source": [
    "print(len(labels))"
   ]
  },
  {
   "cell_type": "code",
   "execution_count": 3,
   "id": "9495ffbe",
   "metadata": {},
   "outputs": [
    {
     "name": "stdout",
     "output_type": "stream",
     "text": [
      "156/156 [==============================] - 60s 366ms/step\n"
     ]
    }
   ],
   "source": [
    "from tensorflow.keras.applications.resnet50 import ResNet50, preprocess_input\n",
    "\n",
    "def extract_features(images):\n",
    "    # Load pre-trained CNN model\n",
    "    model = ResNet50(weights='imagenet', include_top=False, input_shape=image_size + (3,))\n",
    "\n",
    "    # Preprocess images for the ResNet50 model\n",
    "    preprocessed_images = preprocess_input(images)\n",
    "\n",
    "    # Extract features using the pre-trained model\n",
    "    features = model.predict(preprocessed_images)\n",
    "\n",
    "    return features.reshape(features.shape[0], -1)\n",
    "\n",
    "# Example usage:\n",
    "image_features = extract_features(images)"
   ]
  },
  {
   "cell_type": "code",
   "execution_count": 4,
   "id": "65527f99",
   "metadata": {},
   "outputs": [],
   "source": [
    "from sklearn.svm import SVC\n",
    "from sklearn.model_selection import train_test_split\n",
    "from sklearn.metrics import accuracy_score\n",
    "\n",
    "def train_svm_model(X_train, y_train):\n",
    "    svm_model = SVC(kernel='linear', C=1.0)\n",
    "    svm_model.fit(X_train, y_train)\n",
    "    return svm_model\n",
    "\n",
    "# Train the model \n",
    "X_train, X_test, y_train, y_test = train_test_split(image_features, labels, test_size=0.2, random_state=42)\n",
    "svm_model = train_svm_model(X_train, y_train)"
   ]
  },
  {
   "cell_type": "code",
   "execution_count": 5,
   "id": "43355b38",
   "metadata": {},
   "outputs": [
    {
     "name": "stdout",
     "output_type": "stream",
     "text": [
      "Accuracy: 0.8864321608040201\n"
     ]
    }
   ],
   "source": [
    "def evaluate_model(model, X_test, y_test):\n",
    "    y_pred = model.predict(X_test)\n",
    "    accuracy = accuracy_score(y_test, y_pred)\n",
    "    print(\"Accuracy:\", accuracy)\n",
    "\n",
    "# Example usage:\n",
    "evaluate_model(svm_model, X_test, y_test)"
   ]
  },
  {
   "cell_type": "code",
   "execution_count": 6,
   "id": "0fec5b41",
   "metadata": {},
   "outputs": [],
   "source": [
    "import streamlit as st \n",
    "\n",
    "def choose_file():\n",
    "    file = st.file_uploader(\"Please upload the plant image\",type=[\"jpg\",\"png\"])\n",
    "    return file"
   ]
  },
  {
   "cell_type": "code",
   "execution_count": 8,
   "id": "20c441ad",
   "metadata": {},
   "outputs": [
    {
     "name": "stdout",
     "output_type": "stream",
     "text": [
      "1/1 [==============================] - 2s 2s/step\n",
      "Predicted Crop Type: Apple___Cedar_apple_rust\n"
     ]
    }
   ],
   "source": [
    "def predict_crop_type(model, image):\n",
    "    image = cv2.resize(image, image_size)\n",
    "    feature = extract_features(np.expand_dims(image, axis=0))\n",
    "    crop_type = model.predict(feature)\n",
    "    return crop_type[0]\n",
    "\n",
    "\n",
    "# Example usage:\n",
    "new_image_path  = \"C:/Users/DELL/Documents/crop identification/plant1/Apple___Cedar_apple_rust/0cd24b0c-0a9d-483f-8734-5c08988e029f___FREC_C.Rust 3762_newGRR.JPG\"\n",
    "new_image = cv2.imread(new_image_path)\n",
    "predicted_crop_type = predict_crop_type(svm_model, new_image)\n",
    "print(\"Predicted Crop Type:\", predicted_crop_type)\n"
   ]
  },
  {
   "cell_type": "code",
   "execution_count": 14,
   "id": "a309034b",
   "metadata": {},
   "outputs": [],
   "source": [
    "import pickle\n",
    "\n",
    "\n",
    "filename = 'D:/machine_Learning_projects/plant_crop_identification_machine_learning/model/svm_crop_identifiaction.pkl'\n",
    "\n",
    "# # Save model (serialize)\n",
    "pickle.dump(svm_model, open(filename, 'wb'))\n",
    "\n",
    "# # Load model (de-serialize)\n",
    "# pickle.load(open(filename, 'rb'))\n"
   ]
  },
  {
   "cell_type": "code",
   "execution_count": null,
   "id": "ff9d4571",
   "metadata": {},
   "outputs": [],
   "source": []
  },
  {
   "cell_type": "code",
   "execution_count": null,
   "id": "d79412bc",
   "metadata": {},
   "outputs": [],
   "source": []
  },
  {
   "cell_type": "code",
   "execution_count": null,
   "id": "1d465d3d",
   "metadata": {},
   "outputs": [],
   "source": []
  }
 ],
 "metadata": {
  "kernelspec": {
   "display_name": "Python 3 (ipykernel)",
   "language": "python",
   "name": "python3"
  },
  "language_info": {
   "codemirror_mode": {
    "name": "ipython",
    "version": 3
   },
   "file_extension": ".py",
   "mimetype": "text/x-python",
   "name": "python",
   "nbconvert_exporter": "python",
   "pygments_lexer": "ipython3",
   "version": "3.11.1"
  }
 },
 "nbformat": 4,
 "nbformat_minor": 5
}
